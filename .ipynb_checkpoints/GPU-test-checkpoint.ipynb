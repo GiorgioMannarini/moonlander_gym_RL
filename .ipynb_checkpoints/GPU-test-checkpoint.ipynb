{
 "cells": [
  {
   "cell_type": "code",
   "execution_count": 1,
   "id": "hydraulic-species",
   "metadata": {},
   "outputs": [],
   "source": [
    "import tensorflow.compat.v2 as tf\n",
    "import tensorflow_datasets as tfds"
   ]
  },
  {
   "cell_type": "code",
   "execution_count": 2,
   "id": "cardiac-philadelphia",
   "metadata": {},
   "outputs": [
    {
     "name": "stdout",
     "output_type": "stream",
     "text": [
      "Train on 469 steps, validate on 79 steps\n",
      "Epoch 1/12\n",
      "469/469 [==============================] - ETA: 0s - batch: 234.0000 - size: 1.0000 - loss: 0.1622 - accuracy: 0.9520"
     ]
    },
    {
     "name": "stderr",
     "output_type": "stream",
     "text": [
      "/Users/giorgiomannarini/miniforge3/envs/dataanalysis/lib/python3.8/site-packages/tensorflow/python/keras/engine/training.py:2325: UserWarning: `Model.state_updates` will be removed in a future version. This property should not be used in TensorFlow 2.0, as `updates` are applied automatically.\n",
      "  warnings.warn('`Model.state_updates` will be removed in a future version. '\n"
     ]
    },
    {
     "name": "stdout",
     "output_type": "stream",
     "text": [
      "469/469 [==============================] - 17s 34ms/step - batch: 234.0000 - size: 1.0000 - loss: 0.1622 - accuracy: 0.9520 - val_loss: 0.0451 - val_accuracy: 0.9842\n",
      "Epoch 2/12\n",
      "469/469 [==============================] - 18s 36ms/step - batch: 234.0000 - size: 1.0000 - loss: 0.0422 - accuracy: 0.9869 - val_loss: 0.0361 - val_accuracy: 0.9885\n",
      "Epoch 3/12\n",
      "469/469 [==============================] - 17s 34ms/step - batch: 234.0000 - size: 1.0000 - loss: 0.0277 - accuracy: 0.9912 - val_loss: 0.0355 - val_accuracy: 0.9884\n",
      "Epoch 4/12\n",
      "469/469 [==============================] - 18s 35ms/step - batch: 234.0000 - size: 1.0000 - loss: 0.0179 - accuracy: 0.9945 - val_loss: 0.0394 - val_accuracy: 0.9883\n",
      "Epoch 5/12\n",
      "469/469 [==============================] - 17s 35ms/step - batch: 234.0000 - size: 1.0000 - loss: 0.0131 - accuracy: 0.9961 - val_loss: 0.0363 - val_accuracy: 0.9884\n",
      "Epoch 6/12\n",
      "469/469 [==============================] - 19s 38ms/step - batch: 234.0000 - size: 1.0000 - loss: 0.0094 - accuracy: 0.9968 - val_loss: 0.0355 - val_accuracy: 0.9895\n",
      "Epoch 7/12\n",
      "469/469 [==============================] - 34s 66ms/step - batch: 234.0000 - size: 1.0000 - loss: 0.0072 - accuracy: 0.9975 - val_loss: 0.0401 - val_accuracy: 0.9891\n",
      "Epoch 8/12\n",
      "469/469 [==============================] - 38s 72ms/step - batch: 234.0000 - size: 1.0000 - loss: 0.0072 - accuracy: 0.9975 - val_loss: 0.0394 - val_accuracy: 0.9885\n",
      "Epoch 9/12\n",
      "469/469 [==============================] - 36s 72ms/step - batch: 234.0000 - size: 1.0000 - loss: 0.0066 - accuracy: 0.9978 - val_loss: 0.0388 - val_accuracy: 0.9890\n",
      "Epoch 10/12\n",
      "469/469 [==============================] - 38s 75ms/step - batch: 234.0000 - size: 1.0000 - loss: 0.0041 - accuracy: 0.9985 - val_loss: 0.0479 - val_accuracy: 0.9888\n",
      "Epoch 11/12\n",
      "469/469 [==============================] - 36s 70ms/step - batch: 234.0000 - size: 1.0000 - loss: 0.0062 - accuracy: 0.9977 - val_loss: 0.0378 - val_accuracy: 0.9908\n",
      "Epoch 12/12\n",
      "469/469 [==============================] - 36s 68ms/step - batch: 234.0000 - size: 1.0000 - loss: 0.0025 - accuracy: 0.9992 - val_loss: 0.0425 - val_accuracy: 0.9900\n"
     ]
    },
    {
     "data": {
      "text/plain": [
       "<tensorflow.python.keras.callbacks.History at 0x16b7d8b50>"
      ]
     },
     "execution_count": 2,
     "metadata": {},
     "output_type": "execute_result"
    }
   ],
   "source": [
    "tf.enable_v2_behavior()\n",
    "\n",
    "from tensorflow.python.framework.ops import disable_eager_execution\n",
    "disable_eager_execution()\n",
    "\n",
    "from tensorflow.python.compiler.mlcompute import mlcompute\n",
    "mlcompute.set_mlc_device(device_name='cpu') #change to gpu\n",
    "\n",
    "\n",
    "(ds_train, ds_test), ds_info = tfds.load(\n",
    "    'mnist',\n",
    "    split=['train', 'test'],\n",
    "    shuffle_files=True,\n",
    "    as_supervised=True,\n",
    "    with_info=True,\n",
    ")\n",
    "\n",
    "def normalize_img(image, label):\n",
    "  \"\"\"Normalizes images: `uint8` -> `float32`.\"\"\"\n",
    "  return tf.cast(image, tf.float32) / 255., label\n",
    "\n",
    "batch_size = 128\n",
    "\n",
    "ds_train = ds_train.map(\n",
    "    normalize_img, num_parallel_calls=tf.data.experimental.AUTOTUNE)\n",
    "ds_train = ds_train.cache()\n",
    "ds_train = ds_train.shuffle(ds_info.splits['train'].num_examples)\n",
    "ds_train = ds_train.batch(batch_size)\n",
    "ds_train = ds_train.prefetch(tf.data.experimental.AUTOTUNE)\n",
    "\n",
    "\n",
    "ds_test = ds_test.map(\n",
    "    normalize_img, num_parallel_calls=tf.data.experimental.AUTOTUNE)\n",
    "ds_test = ds_test.batch(batch_size)\n",
    "ds_test = ds_test.cache()\n",
    "ds_test = ds_test.prefetch(tf.data.experimental.AUTOTUNE)\n",
    "\n",
    "\n",
    "model = tf.keras.models.Sequential([\n",
    "  tf.keras.layers.Conv2D(32, kernel_size=(3, 3),\n",
    "                 activation='relu'),\n",
    "  tf.keras.layers.Conv2D(64, kernel_size=(3, 3),\n",
    "                 activation='relu'),\n",
    "  tf.keras.layers.MaxPooling2D(pool_size=(2, 2)),\n",
    "#   tf.keras.layers.Dropout(0.25),\n",
    "  tf.keras.layers.Flatten(),\n",
    "  tf.keras.layers.Dense(128, activation='relu'),\n",
    "#   tf.keras.layers.Dropout(0.5),\n",
    "  tf.keras.layers.Dense(10, activation='softmax')\n",
    "])\n",
    "model.compile(\n",
    "    loss='sparse_categorical_crossentropy',\n",
    "    optimizer=tf.keras.optimizers.Adam(0.001),\n",
    "    metrics=['accuracy'],\n",
    ")\n",
    "\n",
    "model.fit(\n",
    "    ds_train,\n",
    "    epochs=12,\n",
    "    validation_data=ds_test,\n",
    ")"
   ]
  },
  {
   "cell_type": "code",
   "execution_count": null,
   "id": "industrial-proposal",
   "metadata": {},
   "outputs": [],
   "source": [
    "import tensorflow as tf\n",
    "import time\n",
    "\n",
    "\"\"\"tf.enable_v2_behavior()\n",
    "\n",
    "from tensorflow.python.framework.ops import disable_eager_execution\n",
    "disable_eager_execution()\n",
    "\n",
    "from tensorflow.python.compiler.mlcompute import mlcompute\n",
    "mlcompute.set_mlc_device(device_name='cpu')\"\"\"\n",
    "\n",
    "\n",
    "#download fashion mnist dataset\n",
    "fashion_mnist = tf.keras.datasets.fashion_mnist\n",
    "(train_images, train_labels), (test_images, test_labels) = fashion_mnist.load_data()\n",
    "\n",
    "train_set_count = len(train_labels)\n",
    "test_set_count = len(test_labels)\n",
    "\n",
    "#setup start time\n",
    "t0 = time.time()\n",
    "\n",
    "#normalize images\n",
    "train_images = train_images / 255.0\n",
    "test_images = test_images / 255.0\n",
    "\n",
    "#create ML model\n",
    "model = tf.keras.Sequential([\n",
    "    tf.keras.layers.Flatten(input_shape=(28, 28)),\n",
    "    tf.keras.layers.Dense(128, activation='relu'),\n",
    "    tf.keras.layers.Dense(10)\n",
    "])\n",
    "\n",
    "#compile ML model\n",
    "model.compile(optimizer='adam',\n",
    "              loss=tf.keras.losses.SparseCategoricalCrossentropy(from_logits=True),\n",
    "              metrics=['accuracy'])\n",
    "\n",
    "#train ML model\n",
    "model.fit(train_images, train_labels, epochs=10)\n",
    "\n",
    "#evaluate ML model on test set\n",
    "test_loss, test_acc = model.evaluate(test_images,  test_labels, verbose=2)\n",
    "\n",
    "#setup stop time\n",
    "t1 = time.time()\n",
    "total_time = t1-t0\n",
    "\n",
    "#print results\n",
    "print('\\n')\n",
    "print(f'Training set contained {train_set_count} images')\n",
    "print(f'Testing set contained {test_set_count} images')\n",
    "print(f'Model achieved {test_acc:.2f} testing accuracy')\n",
    "print(f'Training and testing took {total_time:.2f} seconds')"
   ]
  },
  {
   "cell_type": "code",
   "execution_count": null,
   "id": "downtown-olympus",
   "metadata": {},
   "outputs": [],
   "source": []
  }
 ],
 "metadata": {
  "kernelspec": {
   "display_name": "Python 3",
   "language": "python",
   "name": "python3"
  },
  "language_info": {
   "codemirror_mode": {
    "name": "ipython",
    "version": 3
   },
   "file_extension": ".py",
   "mimetype": "text/x-python",
   "name": "python",
   "nbconvert_exporter": "python",
   "pygments_lexer": "ipython3",
   "version": "3.8.6"
  }
 },
 "nbformat": 4,
 "nbformat_minor": 5
}
